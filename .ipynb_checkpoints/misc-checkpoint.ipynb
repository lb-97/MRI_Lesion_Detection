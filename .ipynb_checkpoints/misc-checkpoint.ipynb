{
 "cells": [
  {
   "cell_type": "code",
   "execution_count": 1,
   "metadata": {},
   "outputs": [],
   "source": [
    "import torch\n",
    "import os\n",
    "import nibabel as nib\n",
    "import numpy as np\n",
    "import pandas as pd\n",
    "from sklearn.model_selection import train_test_split\n",
    "\n",
    "SRC_PATH = '/scratch/vb2183/hcp/data/metrics_postprocessed/'\n",
    "SUBJ_PATH = os.path.join(\"/scratch/vb2183/hcp/\",\"MRI_Lesion_Detection\",\"subjects\")\n",
    "lis = os.listdir(SRC_PATH)\n",
    "# print(np.array(nib.load(os.path.join(SRC_PATH, list[0],'fa.nii')).get_fdata()).shape)\n"
   ]
  },
  {
   "cell_type": "code",
   "execution_count": 17,
   "metadata": {},
   "outputs": [],
   "source": [
    "# filename = os.path.join(\"/scratch/vb2183/hcp/\",\"MRI_Lesion_Detection\",\"subjects\",\"trainList.txt\")\n",
    "# file = open(filename,\"w\")\n",
    "# file.write(' '.join(list[:932]))\n",
    "# file.close()"
   ]
  },
  {
   "cell_type": "code",
   "execution_count": 18,
   "metadata": {},
   "outputs": [],
   "source": [
    "# filename = os.path.join(\"/scratch/vb2183/hcp/\",\"MRI_Lesion_Detection\",\"subjects\",\"valList.txt\")\n",
    "# file = open(filename,\"w\")\n",
    "# file.write(' '.join(list[932:982]))\n",
    "# file.close()"
   ]
  },
  {
   "cell_type": "code",
   "execution_count": 19,
   "metadata": {},
   "outputs": [],
   "source": [
    "# filename = os.path.join(\"/scratch/vb2183/hcp/\",\"MRI_Lesion_Detection\",\"subjects\",\"testList.txt\")\n",
    "# file = open(filename,\"w\")\n",
    "# file.write(' '.join(list[982:]))\n",
    "# file.close()"
   ]
  },
  {
   "cell_type": "code",
   "execution_count": 2,
   "metadata": {},
   "outputs": [
    {
     "name": "stdout",
     "output_type": "stream",
     "text": [
      "len(trainSubjects):  932\n",
      "len(valSubjects):  50\n"
     ]
    }
   ],
   "source": [
    "with open(os.path.join(SUBJ_PATH,\"trainList.txt\")) as f:\n",
    "        for line in f.readlines():\n",
    "            trainSubjects = line.split(' ')\n",
    "print(\"len(trainSubjects): \",len(trainSubjects))\n",
    "with open(os.path.join(SUBJ_PATH,\"valList.txt\")) as f:\n",
    "        for line in f.readlines():\n",
    "            valSubjects = line.split(' ')\n",
    "print(\"len(valSubjects): \",len(valSubjects))"
   ]
  },
  {
   "cell_type": "code",
   "execution_count": 3,
   "metadata": {},
   "outputs": [],
   "source": [
    "x = pd.read_csv('/scratch/vb2183/hcp/data/HCP_S1200_behavior.csv',index_col = 'Subject',usecols=['ProcSpeed_Unadj','Subject'])\n",
    "# x.loc[100004,['ProcSpeed_Unadj']]\n",
    "# x.at[100004,'ProcSpeed_Unadj']\n"
   ]
  },
  {
   "cell_type": "code",
   "execution_count": 4,
   "metadata": {},
   "outputs": [
    {
     "name": "stdout",
     "output_type": "stream",
     "text": [
      "932\n"
     ]
    },
    {
     "data": {
      "text/plain": [
       "(array([  2.,   1.,   6.,  52., 136., 269., 234., 122.,  60.,  50.]),\n",
       " array([ 51.62 ,  61.927,  72.234,  82.541,  92.848, 103.155, 113.462,\n",
       "        123.769, 134.076, 144.383, 154.69 ]),\n",
       " <BarContainer object of 10 artists>)"
      ]
     },
     "execution_count": 4,
     "metadata": {},
     "output_type": "execute_result"
    },
    {
     "data": {
      "image/png": "[encoded data removed]",
      "text/plain": [
       "<Figure size 432x288 with 1 Axes>"
      ]
     },
     "metadata": {
      "needs_background": "light"
     },
     "output_type": "display_data"
    }
   ],
   "source": [
    "import matplotlib.pyplot as plt\n",
    "\n",
    "labels=[]\n",
    "for subj in trainSubjects:\n",
    "    labels.append(x.at[int(subj[3:]),'ProcSpeed_Unadj'])\n",
    "print(len(labels))\n",
    "plt.figure()\n",
    "plt.hist(labels)"
   ]
  },
  {
   "cell_type": "code",
   "execution_count": 5,
   "metadata": {},
   "outputs": [
    {
     "name": "stdout",
     "output_type": "stream",
     "text": [
      "1032\n"
     ]
    },
    {
     "data": {
      "text/plain": [
       "(array([  2.,   1.,   9.,  54., 148., 297., 258., 139.,  67.,  57.]),\n",
       " array([ 51.62 ,  61.927,  72.234,  82.541,  92.848, 103.155, 113.462,\n",
       "        123.769, 134.076, 144.383, 154.69 ]),\n",
       " <BarContainer object of 10 artists>)"
      ]
     },
     "execution_count": 5,
     "metadata": {},
     "output_type": "execute_result"
    },
    {
     "data": {
      "image/png": "[encoded data removed]",
      "text/plain": [
       "<Figure size 432x288 with 1 Axes>"
      ]
     },
     "metadata": {
      "needs_background": "light"
     },
     "output_type": "display_data"
    }
   ],
   "source": [
    "tot=[]\n",
    "for subj in lis:\n",
    "    tot.append(x.at[int(subj[3:]),'ProcSpeed_Unadj'])\n",
    "print(len(tot))\n",
    "plt.figure()\n",
    "plt.hist(tot)\n",
    "# train,test = train_test_split(np.arange(len(labels)),test_size=0.1,shuffle=True,stratify=labels)"
   ]
  },
  {
   "cell_type": "code",
   "execution_count": null,
   "metadata": {},
   "outputs": [],
   "source": []
  }
 ],
 "metadata": {
  "kernelspec": {
   "display_name": "Python 3",
   "language": "python",
   "name": "python3"
  },
  "language_info": {
   "codemirror_mode": {
    "name": "ipython",
    "version": 3
   },
   "file_extension": ".py",
   "mimetype": "text/x-python",
   "name": "python",
   "nbconvert_exporter": "python",
   "pygments_lexer": "ipython3",
   "version": "3.8.6"
  }
 },
 "nbformat": 4,
 "nbformat_minor": 4
}
